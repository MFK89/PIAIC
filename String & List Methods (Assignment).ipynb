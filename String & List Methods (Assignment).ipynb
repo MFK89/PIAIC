{
 "cells": [
  {
   "cell_type": "markdown",
   "metadata": {},
   "source": [
    "# String Methods"
   ]
  },
  {
   "cell_type": "code",
   "execution_count": 1,
   "metadata": {},
   "outputs": [
    {
     "name": "stdout",
     "output_type": "stream",
     "text": [
      "welcome to the future\n"
     ]
    }
   ],
   "source": [
    "# All lower case (aggressive)\n",
    "str = \"Welcome To The Future\"\n",
    "print(str.casefold())"
   ]
  },
  {
   "cell_type": "code",
   "execution_count": 2,
   "metadata": {},
   "outputs": [
    {
     "name": "stdout",
     "output_type": "stream",
     "text": [
      "welcome to the future\n"
     ]
    }
   ],
   "source": [
    "# All lower case\n",
    "str = \"Welcome To The Future\"\n",
    "print(str.lower())"
   ]
  },
  {
   "cell_type": "code",
   "execution_count": 3,
   "metadata": {},
   "outputs": [
    {
     "name": "stdout",
     "output_type": "stream",
     "text": [
      "WELCOME TO THE FUTURE\n"
     ]
    }
   ],
   "source": [
    "# All upper case\n",
    "str = \"Welcome To The Future\"\n",
    "print(str.upper())"
   ]
  },
  {
   "cell_type": "code",
   "execution_count": 4,
   "metadata": {},
   "outputs": [
    {
     "name": "stdout",
     "output_type": "stream",
     "text": [
      "wELCOME tO tHE fUTURE\n"
     ]
    }
   ],
   "source": [
    "# Invert the case\n",
    "str = \"Welcome To The Future\"\n",
    "print(str.swapcase())"
   ]
  },
  {
   "cell_type": "code",
   "execution_count": 5,
   "metadata": {},
   "outputs": [
    {
     "name": "stdout",
     "output_type": "stream",
     "text": [
      "Welcome To The Future\n"
     ]
    }
   ],
   "source": [
    "# Represent in title form (first letter capital of each word)\n",
    "str = \"welcome to the future\"\n",
    "print(str.title())"
   ]
  },
  {
   "cell_type": "code",
   "execution_count": 6,
   "metadata": {},
   "outputs": [
    {
     "name": "stdout",
     "output_type": "stream",
     "text": [
      "Welcome to the future\n"
     ]
    }
   ],
   "source": [
    "# Only capitalize the first letter of sentence\n",
    "str = \"welcome to The future\"\n",
    "print(str.capitalize())"
   ]
  },
  {
   "cell_type": "code",
   "execution_count": 7,
   "metadata": {},
   "outputs": [
    {
     "name": "stdout",
     "output_type": "stream",
     "text": [
      "4\n"
     ]
    }
   ],
   "source": [
    "# Counts the occurance of specified letter\n",
    "str = \"Welcome To The Future\"\n",
    "print(str.count(\"e\"))"
   ]
  },
  {
   "cell_type": "code",
   "execution_count": 8,
   "metadata": {},
   "outputs": [
    {
     "name": "stdout",
     "output_type": "stream",
     "text": [
      "5\n"
     ]
    }
   ],
   "source": [
    "# Returns the first location of the specified letter starting from left\n",
    "str = \"Welcome To The Future\"\n",
    "print(str.find(\"m\"))"
   ]
  },
  {
   "cell_type": "code",
   "execution_count": 11,
   "metadata": {},
   "outputs": [
    {
     "name": "stdout",
     "output_type": "stream",
     "text": [
      "4\n"
     ]
    }
   ],
   "source": [
    "# Returns the first location of the specified letter starting from left\n",
    "str = \"Welcome To The Future\"\n",
    "print(str.index(\"o\"))"
   ]
  },
  {
   "cell_type": "code",
   "execution_count": 13,
   "metadata": {},
   "outputs": [
    {
     "name": "stdout",
     "output_type": "stream",
     "text": [
      "18\n"
     ]
    }
   ],
   "source": [
    "# Returns the first location of the specified letter starting from right\n",
    "str = \"Welcome To The Future\"\n",
    "print(str.rfind(\"u\"))"
   ]
  },
  {
   "cell_type": "code",
   "execution_count": 15,
   "metadata": {},
   "outputs": [
    {
     "name": "stdout",
     "output_type": "stream",
     "text": [
      "9\n"
     ]
    }
   ],
   "source": [
    "# Returns the first location of the specified letter starting from right\n",
    "str = \"Welcome To The Future\"\n",
    "print(str.rindex(\"o\"))"
   ]
  },
  {
   "cell_type": "code",
   "execution_count": 20,
   "metadata": {},
   "outputs": [
    {
     "name": "stdout",
     "output_type": "stream",
     "text": [
      "!               Welcome To The Future                !\n"
     ]
    }
   ],
   "source": [
    "# Returns string in center\n",
    "str = \"Welcome To The Future\"\n",
    "print(\"!\", str.center(50), \"!\")"
   ]
  },
  {
   "cell_type": "code",
   "execution_count": 21,
   "metadata": {},
   "outputs": [
    {
     "name": "stdout",
     "output_type": "stream",
     "text": [
      "! Welcome To The Future                              !\n"
     ]
    }
   ],
   "source": [
    "# Returns string in left justification\n",
    "str = \"Welcome To The Future\"\n",
    "print(\"!\", str.ljust(50), \"!\")"
   ]
  },
  {
   "cell_type": "code",
   "execution_count": 22,
   "metadata": {},
   "outputs": [
    {
     "name": "stdout",
     "output_type": "stream",
     "text": [
      "!                              Welcome To The Future !\n"
     ]
    }
   ],
   "source": [
    "# Returns string in right justification\n",
    "str = \"Welcome To The Future\"\n",
    "print(\"!\", str.rjust(50), \"!\")"
   ]
  },
  {
   "cell_type": "code",
   "execution_count": 26,
   "metadata": {},
   "outputs": [
    {
     "name": "stdout",
     "output_type": "stream",
     "text": [
      "! Welcome To The Future !\n"
     ]
    }
   ],
   "source": [
    "# String is trimmed off its starting and ending white spaces\n",
    "str = \"         Welcome To The Future         \"\n",
    "print(\"!\", str.strip(), \"!\")"
   ]
  },
  {
   "cell_type": "code",
   "execution_count": 27,
   "metadata": {},
   "outputs": [
    {
     "name": "stdout",
     "output_type": "stream",
     "text": [
      "! Welcome To The Future          !\n"
     ]
    }
   ],
   "source": [
    "# String is trimmed off its starting white spaces only\n",
    "str = \"         Welcome To The Future         \"\n",
    "print(\"!\", str.lstrip(), \"!\")"
   ]
  },
  {
   "cell_type": "code",
   "execution_count": 28,
   "metadata": {},
   "outputs": [
    {
     "name": "stdout",
     "output_type": "stream",
     "text": [
      "!          Welcome To The Future !\n"
     ]
    }
   ],
   "source": [
    "# String is trimmed off its ending white spaces only\n",
    "str = \"         Welcome To The Future         \"\n",
    "print(\"!\", str.rstrip(), \"!\")"
   ]
  },
  {
   "cell_type": "code",
   "execution_count": 33,
   "metadata": {},
   "outputs": [
    {
     "name": "stdout",
     "output_type": "stream",
     "text": [
      "('Welcome To ', 'The', ' Future Of The World')\n"
     ]
    }
   ],
   "source": [
    "# Breakes the sentence after first matching of the provided word form left (returns tuple)\n",
    "str = \"Welcome To The Future Of The World\"\n",
    "print(str.partition(\"The\"))"
   ]
  },
  {
   "cell_type": "code",
   "execution_count": 34,
   "metadata": {},
   "outputs": [
    {
     "name": "stdout",
     "output_type": "stream",
     "text": [
      "('Welcome To The Future Of ', 'The', ' World')\n"
     ]
    }
   ],
   "source": [
    "# Breakes the sentence after first matching of the provided word form right (returns tuple)\n",
    "str = \"Welcome To The Future Of The World\"\n",
    "print(str.rpartition(\"The\"))"
   ]
  },
  {
   "cell_type": "code",
   "execution_count": 37,
   "metadata": {},
   "outputs": [
    {
     "name": "stdout",
     "output_type": "stream",
     "text": [
      "['Welcome', 'To', 'The', 'Future', 'Of', 'The', 'World']\n"
     ]
    }
   ],
   "source": [
    "# Break the sentence on basis of provided seperator (returns list)\n",
    "str = \"Welcome To The Future Of The World\"\n",
    "print(str.split(\" \"))"
   ]
  },
  {
   "cell_type": "code",
   "execution_count": 38,
   "metadata": {},
   "outputs": [
    {
     "name": "stdout",
     "output_type": "stream",
     "text": [
      "Welcome To The End Of The World\n"
     ]
    }
   ],
   "source": [
    "# Replace specified text with another\n",
    "str = \"Welcome To The Future Of The World\"\n",
    "print(str.replace(\"Future\", \"End\"))"
   ]
  },
  {
   "cell_type": "code",
   "execution_count": 39,
   "metadata": {},
   "outputs": [
    {
     "name": "stdout",
     "output_type": "stream",
     "text": [
      "True\n",
      "False\n"
     ]
    }
   ],
   "source": [
    "# Check if a sentence starts with a specific string (returns boolean)\n",
    "str = \"Welcome To The Future Of The World\"\n",
    "print(str.startswith(\"W\"))\n",
    "print(str.startswith(\"To\"))"
   ]
  },
  {
   "cell_type": "code",
   "execution_count": 42,
   "metadata": {},
   "outputs": [
    {
     "name": "stdout",
     "output_type": "stream",
     "text": [
      "False\n",
      "True\n"
     ]
    }
   ],
   "source": [
    "# Check if a sentence ends with a specific string (returns boolean)\n",
    "str = \"Welcome To The Future Of The World\"\n",
    "print(str.endswith(\"WorlD\"))\n",
    "print(str.endswith(\"World\"))"
   ]
  },
  {
   "cell_type": "code",
   "execution_count": 43,
   "metadata": {},
   "outputs": [
    {
     "name": "stdout",
     "output_type": "stream",
     "text": [
      "False\n"
     ]
    }
   ],
   "source": [
    "# Check if whole string is in upper case (returns boolean)\n",
    "str = \"Welcome To The Future Of The World\"\n",
    "print(str.isupper())"
   ]
  },
  {
   "cell_type": "code",
   "execution_count": 44,
   "metadata": {},
   "outputs": [
    {
     "name": "stdout",
     "output_type": "stream",
     "text": [
      "True\n"
     ]
    }
   ],
   "source": [
    "# Check if whole string is in lower case (returns boolean)\n",
    "str = \"welcome to the future of the world\"\n",
    "print(str.islower())"
   ]
  },
  {
   "cell_type": "code",
   "execution_count": 45,
   "metadata": {},
   "outputs": [
    {
     "name": "stdout",
     "output_type": "stream",
     "text": [
      "True\n"
     ]
    }
   ],
   "source": [
    "# Check if string is in title form (returns boolean)\n",
    "str = \"Welcome To The Future Of The World\"\n",
    "print(str.istitle())"
   ]
  },
  {
   "cell_type": "code",
   "execution_count": 54,
   "metadata": {},
   "outputs": [
    {
     "name": "stdout",
     "output_type": "stream",
     "text": [
      "False\n"
     ]
    }
   ],
   "source": [
    "# Check if string is purely alphabetic (returns boolean)\n",
    "str = \"B1903z\"\n",
    "print(str.isalpha())"
   ]
  },
  {
   "cell_type": "code",
   "execution_count": 57,
   "metadata": {},
   "outputs": [
    {
     "name": "stdout",
     "output_type": "stream",
     "text": [
      "False\n"
     ]
    }
   ],
   "source": [
    "# Check if string is purely numeric (returns boolean)\n",
    "str = \"B1903z\"\n",
    "print(str.isnumeric())"
   ]
  },
  {
   "cell_type": "code",
   "execution_count": 56,
   "metadata": {},
   "outputs": [
    {
     "name": "stdout",
     "output_type": "stream",
     "text": [
      "True\n"
     ]
    }
   ],
   "source": [
    "# Check if string is alpha-numeric (returns boolean)\n",
    "str = \"B1903z\"\n",
    "print(str.isalnum())"
   ]
  },
  {
   "cell_type": "code",
   "execution_count": 60,
   "metadata": {},
   "outputs": [
    {
     "name": "stdout",
     "output_type": "stream",
     "text": [
      "0000B1903z\n"
     ]
    }
   ],
   "source": [
    "# Defines digit limit (zero padding)\n",
    "str = \"B1903z\"\n",
    "print(str.zfill(10))"
   ]
  },
  {
   "cell_type": "markdown",
   "metadata": {},
   "source": [
    "# List Methods"
   ]
  },
  {
   "cell_type": "code",
   "execution_count": 64,
   "metadata": {},
   "outputs": [
    {
     "name": "stdout",
     "output_type": "stream",
     "text": [
      "['chores', 'pray', 'study', 'shopping']\n"
     ]
    }
   ],
   "source": [
    "# Adds an element to the end\n",
    "todo = [\"chores\", \"pray\", \"study\"]\n",
    "todo.append(\"shopping\")\n",
    "print(todo)"
   ]
  },
  {
   "cell_type": "code",
   "execution_count": 65,
   "metadata": {},
   "outputs": [
    {
     "name": "stdout",
     "output_type": "stream",
     "text": [
      "[]\n"
     ]
    }
   ],
   "source": [
    "# Removes all list elements\n",
    "todo = [\"chores\", \"pray\", \"study\"]\n",
    "todo.clear()\n",
    "print(todo)"
   ]
  },
  {
   "cell_type": "code",
   "execution_count": 67,
   "metadata": {},
   "outputs": [
    {
     "name": "stdout",
     "output_type": "stream",
     "text": [
      "['chores', 'pray', 'study']\n"
     ]
    }
   ],
   "source": [
    "# Makes a copy of list in another variable\n",
    "todo = [\"chores\", \"pray\", \"study\"]\n",
    "alwaysdo = todo.copy()\n",
    "print(alwaysdo)"
   ]
  },
  {
   "cell_type": "code",
   "execution_count": 71,
   "metadata": {},
   "outputs": [
    {
     "name": "stdout",
     "output_type": "stream",
     "text": [
      "1\n"
     ]
    }
   ],
   "source": [
    "# Returns number of elements which match the defined element\n",
    "todo = [\"chores\", \"pray\", \"study\"]\n",
    "print(todo.count(\"pray\"))"
   ]
  },
  {
   "cell_type": "code",
   "execution_count": 75,
   "metadata": {},
   "outputs": [
    {
     "name": "stdout",
     "output_type": "stream",
     "text": [
      "['chores', 'pray', 'study', 'watchTV', 'play']\n"
     ]
    }
   ],
   "source": [
    "# Merge two lists\n",
    "todo = [\"chores\", \"pray\", \"study\"]\n",
    "tonotdo = [\"watchTV\", \"play\"]\n",
    "todo.extend(tonotdo)\n",
    "print(todo)"
   ]
  },
  {
   "cell_type": "code",
   "execution_count": 77,
   "metadata": {},
   "outputs": [
    {
     "name": "stdout",
     "output_type": "stream",
     "text": [
      "2\n"
     ]
    }
   ],
   "source": [
    "# Returns the index of element\n",
    "todo = [\"chores\", \"pray\", \"study\", \"watchTV\", \"play\"]\n",
    "print(todo.index(\"study\"))"
   ]
  },
  {
   "cell_type": "code",
   "execution_count": 79,
   "metadata": {},
   "outputs": [
    {
     "name": "stdout",
     "output_type": "stream",
     "text": [
      "['chores', 'pray', 'watchTV', 'study']\n"
     ]
    }
   ],
   "source": [
    "# Insert an element at specified index number\n",
    "todo = [\"chores\", \"pray\", \"study\"]\n",
    "todo.insert(2, \"watchTV\")\n",
    "print(todo)"
   ]
  },
  {
   "cell_type": "code",
   "execution_count": 82,
   "metadata": {},
   "outputs": [
    {
     "name": "stdout",
     "output_type": "stream",
     "text": [
      "watchTV\n",
      "['chores', 'pray', 'study']\n"
     ]
    }
   ],
   "source": [
    "# Remove an element at specified index number\n",
    "todo = [\"chores\", \"pray\", \"watchTV\", \"study\"]\n",
    "print(todo.pop(2))\n",
    "print(todo)"
   ]
  },
  {
   "cell_type": "code",
   "execution_count": 84,
   "metadata": {},
   "outputs": [
    {
     "name": "stdout",
     "output_type": "stream",
     "text": [
      "['chores', 'pray', 'study']\n"
     ]
    }
   ],
   "source": [
    "# Remove an element at specified value\n",
    "todo = [\"chores\", \"pray\", \"watchTV\", \"study\"]\n",
    "todo.remove(\"watchTV\")\n",
    "print(todo)"
   ]
  },
  {
   "cell_type": "code",
   "execution_count": 86,
   "metadata": {},
   "outputs": [
    {
     "name": "stdout",
     "output_type": "stream",
     "text": [
      "['study', 'watchTV', 'pray', 'chores']\n"
     ]
    }
   ],
   "source": [
    "# Reverse the order of all elements\n",
    "todo = [\"chores\", \"pray\", \"watchTV\", \"study\"]\n",
    "todo.reverse()\n",
    "print(todo)"
   ]
  },
  {
   "cell_type": "code",
   "execution_count": 87,
   "metadata": {},
   "outputs": [
    {
     "name": "stdout",
     "output_type": "stream",
     "text": [
      "['chores', 'pray', 'shopping', 'study', 'watchTV']\n"
     ]
    }
   ],
   "source": [
    "# Sort the elements with respect to accending alphabetical order\n",
    "todo = [\"chores\", \"pray\", \"shopping\", \"watchTV\", \"study\"]\n",
    "todo.sort()\n",
    "print(todo)"
   ]
  },
  {
   "cell_type": "code",
   "execution_count": null,
   "metadata": {},
   "outputs": [],
   "source": []
  }
 ],
 "metadata": {
  "kernelspec": {
   "display_name": "Python 3",
   "language": "python",
   "name": "python3"
  },
  "language_info": {
   "codemirror_mode": {
    "name": "ipython",
    "version": 3
   },
   "file_extension": ".py",
   "mimetype": "text/x-python",
   "name": "python",
   "nbconvert_exporter": "python",
   "pygments_lexer": "ipython3",
   "version": "3.7.3"
  }
 },
 "nbformat": 4,
 "nbformat_minor": 2
}
